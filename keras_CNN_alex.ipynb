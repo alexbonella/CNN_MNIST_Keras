{
 "cells": [
  {
   "cell_type": "markdown",
   "metadata": {},
   "source": [
    "# Importamos librerias"
   ]
  },
  {
   "cell_type": "code",
   "execution_count": 1,
   "metadata": {},
   "outputs": [
    {
     "name": "stderr",
     "output_type": "stream",
     "text": [
      "Using TensorFlow backend.\n"
     ]
    }
   ],
   "source": [
    "import tensorflow as tf\n",
    "import pandas as pd\n",
    "import keras \n",
    "import numpy as np\n",
    "from sklearn.model_selection import train_test_split\n",
    "from keras.models import Sequential\n",
    "from keras.layers.core import Dense, Activation \n",
    "from keras.layers import Conv2D,MaxPooling2D,Flatten,Dropout\n",
    "from keras.utils import np_utils\n",
    "import matplotlib as mpl\n",
    "import matplotlib.pyplot as plt\n",
    "%matplotlib inline"
   ]
  },
  {
   "cell_type": "markdown",
   "metadata": {},
   "source": [
    "**NOTA :** Revisar los tipos de **`layers`** que maneja **`keras`** para redes convolucionales"
   ]
  },
  {
   "cell_type": "markdown",
   "metadata": {},
   "source": [
    "# Como usar `Keras` paso a paso :\n",
    "\n",
    "Antes de definir la estructura que deseamos que tenga nuestra red neuronal debemos tener en cuent los siguientes pasos :\n",
    "\n",
    "1. Creamos la instacia **`Secuential`**\n",
    "2. Definimos cada una de las capas con su respectivas funciones de activación \n",
    "3. Configuración del proceso de aprendizaje **`Compilación`** del modelo\n",
    "4. Entrenamiento de nuestro modelo\n",
    "5. Evaluación de nuestro modelo\n",
    "6. Predicción de nuestro modelo"
   ]
  },
  {
   "cell_type": "markdown",
   "metadata": {},
   "source": [
    "# Paso  1 : Instanciación"
   ]
  },
  {
   "cell_type": "code",
   "execution_count": 2,
   "metadata": {},
   "outputs": [],
   "source": [
    "model = Sequential()"
   ]
  },
  {
   "cell_type": "markdown",
   "metadata": {},
   "source": [
    "# Cargamos nuestro dataset"
   ]
  },
  {
   "cell_type": "code",
   "execution_count": 3,
   "metadata": {},
   "outputs": [],
   "source": [
    "train = pd.read_csv(\"train.csv\")\n",
    "test = pd.read_csv(\"test.csv\")"
   ]
  },
  {
   "cell_type": "code",
   "execution_count": 4,
   "metadata": {},
   "outputs": [],
   "source": [
    "X = train.drop(labels = [\"label\"],axis = 1) # Eliminamos la columna de etiquetas\n",
    "y = train[\"label\"]\n",
    "X=X.values\n",
    "y=y.values\n",
    "\n",
    "# División de nuestros datos :\n",
    "X_train, X_test, y_train, y_test = train_test_split(X, y, test_size=0.3, random_state=101)\n"
   ]
  },
  {
   "cell_type": "code",
   "execution_count": 5,
   "metadata": {},
   "outputs": [],
   "source": [
    "# Transformacion de nuestra data antes de ingresarla a nuestra red\n",
    "\n",
    "X_train = X_train.reshape(X_train.shape[0], 28, 28, 1).astype('float32')\n",
    "X_test = X_test.reshape(X_test.shape[0], 28, 28, 1).astype('float32')"
   ]
  },
  {
   "cell_type": "code",
   "execution_count": 6,
   "metadata": {},
   "outputs": [],
   "source": [
    "# Normalizamos variables dividiendola entre 255  para obtener valores entre 0 y 1\n",
    "X_train = X_train / 255\n",
    "X_test = X_test / 255"
   ]
  },
  {
   "cell_type": "code",
   "execution_count": 7,
   "metadata": {},
   "outputs": [],
   "source": [
    "y_train = np_utils.to_categorical(y_train)\n",
    "y_test = np_utils.to_categorical(y_test)\n",
    "num_classes = y_test.shape[1]"
   ]
  },
  {
   "cell_type": "markdown",
   "metadata": {},
   "source": [
    "# Paso 2 : Configuración de la red "
   ]
  },
  {
   "cell_type": "code",
   "execution_count": 8,
   "metadata": {},
   "outputs": [],
   "source": [
    "# Configuraciones iniciales de nuestra red"
   ]
  },
  {
   "cell_type": "code",
   "execution_count": 9,
   "metadata": {},
   "outputs": [],
   "source": [
    "model.add(Conv2D(32, (5, 5), input_shape=(28, 28, 1), activation='relu'))\n",
    "model.add(MaxPooling2D(pool_size=(2, 2)))\n",
    "model.add(Dropout(0.2))\n",
    "model.add(Flatten())\n",
    "model.add(Dense(128, activation='relu'))\n",
    "model.add(Dense(num_classes, activation='softmax'))"
   ]
  },
  {
   "cell_type": "code",
   "execution_count": 10,
   "metadata": {},
   "outputs": [
    {
     "data": {
      "text/plain": [
       "[<keras.layers.convolutional.Conv2D at 0x7f1002e70b70>,\n",
       " <keras.layers.pooling.MaxPooling2D at 0x7f1002e70e10>,\n",
       " <keras.layers.core.Dropout at 0x7f1002e70b38>,\n",
       " <keras.layers.core.Flatten at 0x7f1002e9cc88>,\n",
       " <keras.layers.core.Dense at 0x7f1002e70f98>,\n",
       " <keras.layers.core.Dense at 0x7f1002e9ccf8>]"
      ]
     },
     "execution_count": 10,
     "metadata": {},
     "output_type": "execute_result"
    }
   ],
   "source": [
    "model.layers # Distribución de nuestras capas en keras"
   ]
  },
  {
   "cell_type": "code",
   "execution_count": 11,
   "metadata": {},
   "outputs": [
    {
     "name": "stdout",
     "output_type": "stream",
     "text": [
      "_________________________________________________________________\n",
      "Layer (type)                 Output Shape              Param #   \n",
      "=================================================================\n",
      "conv2d_1 (Conv2D)            (None, 24, 24, 32)        832       \n",
      "_________________________________________________________________\n",
      "max_pooling2d_1 (MaxPooling2 (None, 12, 12, 32)        0         \n",
      "_________________________________________________________________\n",
      "dropout_1 (Dropout)          (None, 12, 12, 32)        0         \n",
      "_________________________________________________________________\n",
      "flatten_1 (Flatten)          (None, 4608)              0         \n",
      "_________________________________________________________________\n",
      "dense_1 (Dense)              (None, 128)               589952    \n",
      "_________________________________________________________________\n",
      "dense_2 (Dense)              (None, 10)                1290      \n",
      "=================================================================\n",
      "Total params: 592,074\n",
      "Trainable params: 592,074\n",
      "Non-trainable params: 0\n",
      "_________________________________________________________________\n"
     ]
    }
   ],
   "source": [
    "model.summary() # Resumen de nuestros parametros "
   ]
  },
  {
   "cell_type": "markdown",
   "metadata": {},
   "source": [
    "# Paso 3 : Aprendizaje y compilación\n"
   ]
  },
  {
   "cell_type": "code",
   "execution_count": 12,
   "metadata": {},
   "outputs": [],
   "source": [
    "model.compile(loss='categorical_crossentropy', optimizer='Adam', metrics=['accuracy'])"
   ]
  },
  {
   "cell_type": "markdown",
   "metadata": {},
   "source": [
    "# Paso 4 : Entrenamiento de nuestro modelo"
   ]
  },
  {
   "cell_type": "code",
   "execution_count": 13,
   "metadata": {},
   "outputs": [
    {
     "name": "stdout",
     "output_type": "stream",
     "text": [
      "Train on 29400 samples, validate on 12600 samples\n",
      "Epoch 1/40\n",
      " - 24s - loss: 0.4492 - acc: 0.8756 - val_loss: 0.1605 - val_acc: 0.9540\n",
      "Epoch 2/40\n",
      " - 22s - loss: 0.1322 - acc: 0.9627 - val_loss: 0.0936 - val_acc: 0.9721\n",
      "Epoch 3/40\n",
      " - 22s - loss: 0.0876 - acc: 0.9738 - val_loss: 0.0798 - val_acc: 0.9763\n",
      "Epoch 4/40\n",
      " - 22s - loss: 0.0663 - acc: 0.9810 - val_loss: 0.0662 - val_acc: 0.9800\n",
      "Epoch 5/40\n",
      " - 22s - loss: 0.0552 - acc: 0.9833 - val_loss: 0.0557 - val_acc: 0.9829\n",
      "Epoch 6/40\n",
      " - 22s - loss: 0.0485 - acc: 0.9855 - val_loss: 0.0516 - val_acc: 0.9845\n",
      "Epoch 7/40\n",
      " - 22s - loss: 0.0387 - acc: 0.9887 - val_loss: 0.0519 - val_acc: 0.9837\n",
      "Epoch 8/40\n",
      " - 22s - loss: 0.0330 - acc: 0.9896 - val_loss: 0.0431 - val_acc: 0.9865\n",
      "Epoch 9/40\n",
      " - 22s - loss: 0.0304 - acc: 0.9907 - val_loss: 0.0532 - val_acc: 0.9833\n",
      "Epoch 10/40\n",
      " - 22s - loss: 0.0261 - acc: 0.9918 - val_loss: 0.0513 - val_acc: 0.9842\n",
      "Epoch 11/40\n",
      " - 22s - loss: 0.0242 - acc: 0.9930 - val_loss: 0.0451 - val_acc: 0.9849\n",
      "Epoch 12/40\n",
      " - 22s - loss: 0.0204 - acc: 0.9938 - val_loss: 0.0431 - val_acc: 0.9867\n",
      "Epoch 13/40\n",
      " - 22s - loss: 0.0176 - acc: 0.9947 - val_loss: 0.0458 - val_acc: 0.9858\n",
      "Epoch 14/40\n",
      " - 22s - loss: 0.0158 - acc: 0.9952 - val_loss: 0.0478 - val_acc: 0.9850\n",
      "Epoch 15/40\n",
      " - 22s - loss: 0.0137 - acc: 0.9956 - val_loss: 0.0444 - val_acc: 0.9865\n",
      "Epoch 16/40\n",
      " - 22s - loss: 0.0128 - acc: 0.9959 - val_loss: 0.0443 - val_acc: 0.9867\n",
      "Epoch 17/40\n",
      " - 22s - loss: 0.0105 - acc: 0.9973 - val_loss: 0.0462 - val_acc: 0.9860\n",
      "Epoch 18/40\n",
      " - 22s - loss: 0.0093 - acc: 0.9974 - val_loss: 0.0433 - val_acc: 0.9870\n",
      "Epoch 19/40\n",
      " - 22s - loss: 0.0091 - acc: 0.9970 - val_loss: 0.0450 - val_acc: 0.9878\n",
      "Epoch 20/40\n",
      " - 22s - loss: 0.0089 - acc: 0.9972 - val_loss: 0.0472 - val_acc: 0.9867\n",
      "Epoch 21/40\n",
      " - 22s - loss: 0.0061 - acc: 0.9985 - val_loss: 0.0473 - val_acc: 0.9875\n",
      "Epoch 22/40\n",
      " - 22s - loss: 0.0057 - acc: 0.9984 - val_loss: 0.0454 - val_acc: 0.9876\n",
      "Epoch 23/40\n",
      " - 22s - loss: 0.0055 - acc: 0.9987 - val_loss: 0.0483 - val_acc: 0.9866\n",
      "Epoch 24/40\n",
      " - 22s - loss: 0.0072 - acc: 0.9976 - val_loss: 0.0513 - val_acc: 0.9859\n",
      "Epoch 25/40\n",
      " - 22s - loss: 0.0064 - acc: 0.9978 - val_loss: 0.0554 - val_acc: 0.9849\n",
      "Epoch 26/40\n",
      " - 22s - loss: 0.0074 - acc: 0.9977 - val_loss: 0.0545 - val_acc: 0.9860\n",
      "Epoch 27/40\n",
      " - 22s - loss: 0.0050 - acc: 0.9985 - val_loss: 0.0508 - val_acc: 0.9871\n",
      "Epoch 28/40\n",
      " - 22s - loss: 0.0047 - acc: 0.9984 - val_loss: 0.0507 - val_acc: 0.9875\n",
      "Epoch 29/40\n",
      " - 22s - loss: 0.0051 - acc: 0.9985 - val_loss: 0.0500 - val_acc: 0.9877\n",
      "Epoch 30/40\n",
      " - 22s - loss: 0.0050 - acc: 0.9986 - val_loss: 0.0453 - val_acc: 0.9885\n",
      "Epoch 31/40\n",
      " - 22s - loss: 0.0045 - acc: 0.9985 - val_loss: 0.0635 - val_acc: 0.9838\n",
      "Epoch 32/40\n",
      " - 22s - loss: 0.0035 - acc: 0.9988 - val_loss: 0.0500 - val_acc: 0.9875\n",
      "Epoch 33/40\n",
      " - 22s - loss: 0.0030 - acc: 0.9992 - val_loss: 0.0524 - val_acc: 0.9876\n",
      "Epoch 34/40\n",
      " - 22s - loss: 0.0044 - acc: 0.9987 - val_loss: 0.0489 - val_acc: 0.9885\n",
      "Epoch 35/40\n",
      " - 22s - loss: 0.0032 - acc: 0.9990 - val_loss: 0.0477 - val_acc: 0.9884\n",
      "Epoch 36/40\n",
      " - 22s - loss: 0.0031 - acc: 0.9992 - val_loss: 0.0489 - val_acc: 0.9886\n",
      "Epoch 37/40\n",
      " - 22s - loss: 0.0030 - acc: 0.9990 - val_loss: 0.0506 - val_acc: 0.9875\n",
      "Epoch 38/40\n",
      " - 22s - loss: 0.0044 - acc: 0.9985 - val_loss: 0.0578 - val_acc: 0.9871\n",
      "Epoch 39/40\n",
      " - 22s - loss: 0.0035 - acc: 0.9990 - val_loss: 0.0508 - val_acc: 0.9875\n",
      "Epoch 40/40\n",
      " - 22s - loss: 0.0026 - acc: 0.9993 - val_loss: 0.0530 - val_acc: 0.9877\n"
     ]
    },
    {
     "data": {
      "text/plain": [
       "<keras.callbacks.History at 0x7f1003a54710>"
      ]
     },
     "execution_count": 13,
     "metadata": {},
     "output_type": "execute_result"
    }
   ],
   "source": [
    "model.fit(X_train, y_train, validation_data=(X_test, y_test),\n",
    "          epochs=40, batch_size=300, verbose=2)"
   ]
  },
  {
   "cell_type": "markdown",
   "metadata": {},
   "source": [
    "# Paso 5 : Evaluacion de nuestro modelo"
   ]
  },
  {
   "cell_type": "code",
   "execution_count": 14,
   "metadata": {},
   "outputs": [
    {
     "name": "stdout",
     "output_type": "stream",
     "text": [
      "Test loss: 0.05298773511702613\n",
      "Test accuracy: 0.9876984126984127\n"
     ]
    }
   ],
   "source": [
    "score = model.evaluate(X_test, y_test, verbose=0)\n",
    "print('Test loss:', score[0])\n",
    "print('Test accuracy:', score[1])"
   ]
  },
  {
   "cell_type": "markdown",
   "metadata": {},
   "source": [
    "# Paso 6 : Prediccion de nuestro modelo"
   ]
  },
  {
   "cell_type": "code",
   "execution_count": 15,
   "metadata": {},
   "outputs": [],
   "source": [
    "test=test/255"
   ]
  },
  {
   "cell_type": "code",
   "execution_count": 16,
   "metadata": {},
   "outputs": [],
   "source": [
    "test=test.values"
   ]
  },
  {
   "cell_type": "code",
   "execution_count": 17,
   "metadata": {},
   "outputs": [
    {
     "data": {
      "text/plain": [
       "28000"
      ]
     },
     "execution_count": 17,
     "metadata": {},
     "output_type": "execute_result"
    }
   ],
   "source": [
    "test.shape[0]"
   ]
  },
  {
   "cell_type": "code",
   "execution_count": 18,
   "metadata": {},
   "outputs": [],
   "source": [
    "test = test.reshape(test.shape[0], 28, 28, 1).astype('float32')"
   ]
  },
  {
   "cell_type": "code",
   "execution_count": 19,
   "metadata": {},
   "outputs": [
    {
     "data": {
      "text/plain": [
       "(28000, 28, 28, 1)"
      ]
     },
     "execution_count": 19,
     "metadata": {},
     "output_type": "execute_result"
    }
   ],
   "source": [
    "test.shape"
   ]
  },
  {
   "cell_type": "code",
   "execution_count": 20,
   "metadata": {},
   "outputs": [],
   "source": [
    "# Predicción de nuestro modelo\n",
    "Y_pred = model.predict(test)"
   ]
  },
  {
   "cell_type": "code",
   "execution_count": 21,
   "metadata": {},
   "outputs": [
    {
     "data": {
      "text/plain": [
       "28000"
      ]
     },
     "execution_count": 21,
     "metadata": {},
     "output_type": "execute_result"
    }
   ],
   "source": [
    "Y_pred.shape[0] "
   ]
  },
  {
   "cell_type": "markdown",
   "metadata": {},
   "source": [
    "**NOTA:** Como tenemos un vector de salida con 10 columnas basta con encontrar el valor maximo de cada columna que correspondera a la imagen detectada ."
   ]
  },
  {
   "cell_type": "code",
   "execution_count": 22,
   "metadata": {},
   "outputs": [
    {
     "data": {
      "text/plain": [
       "7"
      ]
     },
     "execution_count": 22,
     "metadata": {},
     "output_type": "execute_result"
    }
   ],
   "source": [
    "np.argmax(Y_pred[5])"
   ]
  },
  {
   "cell_type": "markdown",
   "metadata": {},
   "source": [
    "# Creación del vector con las etiquetas de salida"
   ]
  },
  {
   "cell_type": "code",
   "execution_count": 23,
   "metadata": {},
   "outputs": [],
   "source": [
    "y_label=[]\n",
    "for i in range(Y_pred.shape[0]):\n",
    "    y_label.append(np.argmax(Y_pred[i]))"
   ]
  },
  {
   "cell_type": "code",
   "execution_count": 24,
   "metadata": {},
   "outputs": [],
   "source": [
    "df_exam=pd.read_csv('sample_submission.csv')"
   ]
  },
  {
   "cell_type": "code",
   "execution_count": 25,
   "metadata": {},
   "outputs": [
    {
     "data": {
      "text/html": [
       "<div>\n",
       "<style scoped>\n",
       "    .dataframe tbody tr th:only-of-type {\n",
       "        vertical-align: middle;\n",
       "    }\n",
       "\n",
       "    .dataframe tbody tr th {\n",
       "        vertical-align: top;\n",
       "    }\n",
       "\n",
       "    .dataframe thead th {\n",
       "        text-align: right;\n",
       "    }\n",
       "</style>\n",
       "<table border=\"1\" class=\"dataframe\">\n",
       "  <thead>\n",
       "    <tr style=\"text-align: right;\">\n",
       "      <th></th>\n",
       "      <th>ImageId</th>\n",
       "      <th>Label</th>\n",
       "    </tr>\n",
       "  </thead>\n",
       "  <tbody>\n",
       "    <tr>\n",
       "      <th>0</th>\n",
       "      <td>1</td>\n",
       "      <td>0</td>\n",
       "    </tr>\n",
       "    <tr>\n",
       "      <th>1</th>\n",
       "      <td>2</td>\n",
       "      <td>0</td>\n",
       "    </tr>\n",
       "    <tr>\n",
       "      <th>2</th>\n",
       "      <td>3</td>\n",
       "      <td>0</td>\n",
       "    </tr>\n",
       "    <tr>\n",
       "      <th>3</th>\n",
       "      <td>4</td>\n",
       "      <td>0</td>\n",
       "    </tr>\n",
       "    <tr>\n",
       "      <th>4</th>\n",
       "      <td>5</td>\n",
       "      <td>0</td>\n",
       "    </tr>\n",
       "  </tbody>\n",
       "</table>\n",
       "</div>"
      ],
      "text/plain": [
       "   ImageId  Label\n",
       "0        1      0\n",
       "1        2      0\n",
       "2        3      0\n",
       "3        4      0\n",
       "4        5      0"
      ]
     },
     "execution_count": 25,
     "metadata": {},
     "output_type": "execute_result"
    }
   ],
   "source": [
    "df_exam.head() # Plantilla de envio a Kaggle"
   ]
  },
  {
   "cell_type": "markdown",
   "metadata": {},
   "source": [
    "# Creación del archivo de envio a Kaggle"
   ]
  },
  {
   "cell_type": "code",
   "execution_count": 26,
   "metadata": {},
   "outputs": [],
   "source": [
    "final_pred = pd.DataFrame({\"ImageId\": df_exam[\"ImageId\"], \n",
    "                       \"Label\" : y_label})"
   ]
  },
  {
   "cell_type": "code",
   "execution_count": 27,
   "metadata": {},
   "outputs": [
    {
     "data": {
      "text/html": [
       "<div>\n",
       "<style scoped>\n",
       "    .dataframe tbody tr th:only-of-type {\n",
       "        vertical-align: middle;\n",
       "    }\n",
       "\n",
       "    .dataframe tbody tr th {\n",
       "        vertical-align: top;\n",
       "    }\n",
       "\n",
       "    .dataframe thead th {\n",
       "        text-align: right;\n",
       "    }\n",
       "</style>\n",
       "<table border=\"1\" class=\"dataframe\">\n",
       "  <thead>\n",
       "    <tr style=\"text-align: right;\">\n",
       "      <th></th>\n",
       "      <th>ImageId</th>\n",
       "      <th>Label</th>\n",
       "    </tr>\n",
       "  </thead>\n",
       "  <tbody>\n",
       "    <tr>\n",
       "      <th>0</th>\n",
       "      <td>1</td>\n",
       "      <td>2</td>\n",
       "    </tr>\n",
       "    <tr>\n",
       "      <th>1</th>\n",
       "      <td>2</td>\n",
       "      <td>0</td>\n",
       "    </tr>\n",
       "    <tr>\n",
       "      <th>2</th>\n",
       "      <td>3</td>\n",
       "      <td>9</td>\n",
       "    </tr>\n",
       "    <tr>\n",
       "      <th>3</th>\n",
       "      <td>4</td>\n",
       "      <td>0</td>\n",
       "    </tr>\n",
       "    <tr>\n",
       "      <th>4</th>\n",
       "      <td>5</td>\n",
       "      <td>3</td>\n",
       "    </tr>\n",
       "  </tbody>\n",
       "</table>\n",
       "</div>"
      ],
      "text/plain": [
       "   ImageId  Label\n",
       "0        1      2\n",
       "1        2      0\n",
       "2        3      9\n",
       "3        4      0\n",
       "4        5      3"
      ]
     },
     "execution_count": 27,
     "metadata": {},
     "output_type": "execute_result"
    }
   ],
   "source": [
    "final_pred.head()"
   ]
  },
  {
   "cell_type": "code",
   "execution_count": 28,
   "metadata": {},
   "outputs": [],
   "source": [
    "final_pred.to_csv('final_predict_1202_adam.csv', index=False)"
   ]
  },
  {
   "cell_type": "markdown",
   "metadata": {},
   "source": [
    "# FINAL ......."
   ]
  },
  {
   "cell_type": "code",
   "execution_count": null,
   "metadata": {},
   "outputs": [],
   "source": []
  }
 ],
 "metadata": {
  "kernelspec": {
   "display_name": "Python 3",
   "language": "python",
   "name": "python3"
  },
  "language_info": {
   "codemirror_mode": {
    "name": "ipython",
    "version": 3
   },
   "file_extension": ".py",
   "mimetype": "text/x-python",
   "name": "python",
   "nbconvert_exporter": "python",
   "pygments_lexer": "ipython3",
   "version": "3.6.7"
  }
 },
 "nbformat": 4,
 "nbformat_minor": 2
}
